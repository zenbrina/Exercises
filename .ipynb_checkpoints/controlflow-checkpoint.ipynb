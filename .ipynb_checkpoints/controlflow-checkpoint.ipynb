{
 "cells": [
  {
   "cell_type": "code",
   "execution_count": null,
   "metadata": {},
   "outputs": [],
   "source": []
  },
  {
   "cell_type": "code",
   "execution_count": null,
   "metadata": {},
   "outputs": [],
   "source": [
    "import random\n",
    "target_num, guess_num = random.randint(1, 10), 0\n",
    "while target_num != guess_num:\n",
    "    guess_num = int(input('Guess a number between 1 and 10 until you get it right : '))\n",
    "print('Well guessed!')"
   ]
  },
  {
   "cell_type": "code",
   "execution_count": 2,
   "metadata": {},
   "outputs": [
    {
     "name": "stdout",
     "output_type": "stream",
     "text": [
      "Input your passwordtest1\n",
      "Not a Valid Password\n"
     ]
    }
   ],
   "source": [
    "import re\n",
    "p= input(\"Input your password\")\n",
    "x = True\n",
    "while x:  \n",
    "    if (len(p)<6 or len(p)>12):\n",
    "        break\n",
    "    elif not re.search(\"[a-z]\",p):\n",
    "        break\n",
    "    elif not re.search(\"[0-9]\",p):\n",
    "        break\n",
    "    elif not re.search(\"[A-Z]\",p):\n",
    "        break\n",
    "    elif not re.search(\"[$#@]\",p):\n",
    "        break\n",
    "    elif re.search(\"\\s\",p):\n",
    "        break\n",
    "    else:\n",
    "        print(\"Valid Password\")\n",
    "        x=False\n",
    "        break\n",
    "\n",
    "if x:\n",
    "    print(\"Not a Valid Password\")\n",
    "    # I saw a great flow chart of this online line it helped me alot with this."
   ]
  },
  {
   "cell_type": "code",
   "execution_count": 3,
   "metadata": {},
   "outputs": [
    {
     "name": "stdout",
     "output_type": "stream",
     "text": [
      "Enter age of person 1 : 4\n",
      "Enter age of person 2 : 8\n",
      "Enter age of person 3 : 15\n",
      "Person 3 is oldest\n",
      "Person 1 is youngest\n"
     ]
    }
   ],
   "source": [
    "person1 = eval(input(\"Enter age of person 1 : \"))\n",
    "person2 = eval(input(\"Enter age of person 2 : \"))\n",
    "person3 = eval(input(\"Enter age of person 3 : \"))\n",
    "\n",
    "# check oldest\n",
    "if person1 > person2 and person1 > person3:\n",
    "    print(\"Person 1 is oldest\")\n",
    "elif person2 > person1 and person2 > person3:\n",
    "    print(\"Person 2 is oldest\")\n",
    "elif person3 > person1 and person3 > person2:\n",
    "    print(\"Person 3 is oldest\")\n",
    "\n",
    "# check youngest\n",
    "if person1 < person2 and person1 < person3:\n",
    "    print(\"Person 1 is youngest\")\n",
    "elif person2 < person1 and person2 < person3:\n",
    "    print(\"Person 2 is youngest\")\n",
    "elif person3 < person1 and person3 < person2:\n",
    "    print(\"Person 3 is youngest\")"
   ]
  },
  {
   "cell_type": "code",
   "execution_count": 4,
   "metadata": {},
   "outputs": [
    {
     "name": "stdout",
     "output_type": "stream",
     "text": [
      "Enter total number of classes held in school : 10\n",
      "Enter total number of classes attended by the student : 10\n",
      "You can sit in the exams as your attendance is fine.\n"
     ]
    }
   ],
   "source": [
    "# Get total classes held in school\n",
    "totalClassesHeld = eval(input(\"Enter total number of classes held in school : \"))\n",
    "\n",
    "# Get total classes attended by the student\n",
    "totalClassesAttend = eval(input(\"Enter total number of classes attended by the student : \"))\n",
    "\n",
    "# Get percent of the attendance\n",
    "percent = (totalClassesAttend / totalClassesHeld) * 100\n",
    "\n",
    "# Check if percent is above 75 i.e., eligible to sit in exam or not\n",
    "if percent < 75:\n",
    "    print(\"You cannot sit in the exams as your attendance is too low!\")\n",
    "else:\n",
    "    print(\"You can sit in the exams as your attendance is fine.\")"
   ]
  },
  {
   "cell_type": "code",
   "execution_count": 6,
   "metadata": {},
   "outputs": [
    {
     "name": "stdout",
     "output_type": "stream",
     "text": [
      "1\n",
      "Weird\n"
     ]
    }
   ],
   "source": [
    "n = int(input())\n",
    "if n % 2 == 1:\n",
    "    print(\"Weird\")\n",
    "elif n % 2 == 0 and 2 <= n <= 5:\n",
    "    print(\"Not Weird\")\n",
    "elif n % 2 == 0 and 6 <= n <= 20:\n",
    "    print(\"Weird\")\n",
    "else:\n",
    "    print(\"Not Weird\")"
   ]
  },
  {
   "cell_type": "code",
   "execution_count": null,
   "metadata": {},
   "outputs": [],
   "source": []
  }
 ],
 "metadata": {
  "kernelspec": {
   "display_name": "Python 3",
   "language": "python",
   "name": "python3"
  },
  "language_info": {
   "codemirror_mode": {
    "name": "ipython",
    "version": 3
   },
   "file_extension": ".py",
   "mimetype": "text/x-python",
   "name": "python",
   "nbconvert_exporter": "python",
   "pygments_lexer": "ipython3",
   "version": "3.8.3"
  }
 },
 "nbformat": 4,
 "nbformat_minor": 4
}
