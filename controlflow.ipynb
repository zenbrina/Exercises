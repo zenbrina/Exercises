{
 "cells": [
  {
   "cell_type": "markdown",
   "metadata": {},
   "source": [
    "Exercise 1\n",
    "Guess a number between 1 to 9 given by the user"
   ]
  },
  {
   "cell_type": "code",
   "execution_count": null,
   "metadata": {},
   "outputs": [],
   "source": [
    "pip install "
   ]
  },
  {
   "cell_type": "code",
   "execution_count": 23,
   "metadata": {},
   "outputs": [
    {
     "name": "stdout",
     "output_type": "stream",
     "text": [
      "We are going to play a game.\n",
      "\n",
      "\n",
      "Guess a number between one and nine!\n",
      "\n",
      "Guess a number between 1 and 9 until you get it right, q to quit : q\n",
      "You choose to quit!!!\n"
     ]
    }
   ],
   "source": [
    "# Guessing a number between one and nine\n",
    "import random\n",
    "print(\"We are going to play a game.\\n\\n\")\n",
    "print(\"Guess a number between one and nine!\\n\")\n",
    "target_num, guess_num = random.randint(1, 10), 0\n",
    "while target_num != int(guess_num):\n",
    "    guess_num = input('Guess a number between 1 and 9 until you get it right, q to quit : ')\n",
    "    if guess_num == 'q':\n",
    "        print(\"You choose to quit!!!\")\n",
    "        break\n",
    "    else:\n",
    "        print('Well guessed!')\n",
    "        print(\"The target number is \"+ str(target_num)+ \" and you guessed \"+ str(guess_num) +'.')\n"
   ]
  },
  {
   "cell_type": "markdown",
   "metadata": {},
   "source": [
    "## Exercise 2\n",
    "Check the validity of password input by the user.\n",
    "\n",
    "Validation:\n",
    "\n",
    "At least 1 letter between [a-z] and 1 letter between [A-Z]\n",
    "At least 1 number between [0-9]\n",
    "At least 1 character from [$#@]\n",
    "Minimum length 6 characters\n",
    "Maximum length 16 characters"
   ]
  },
  {
   "cell_type": "code",
   "execution_count": 62,
   "metadata": {},
   "outputs": [
    {
     "name": "stdout",
     "output_type": "stream",
     "text": [
      "Password : May23@3456\n",
      "Valid password\n"
     ]
    }
   ],
   "source": [
    "# check the validity of a password by a user\n",
    "\n",
    "# declare global valuas\n",
    "capital_letter = 0\n",
    "little_letter = 0\n",
    "number = 0\n",
    "character_num = 0\n",
    "password_length = 0\n",
    "\n",
    "# get user password\n",
    "user_password = input(\"Password : \")\n",
    "\n",
    "# converting each character to ASCII value and seeing if they in meet my criteria\n",
    "\n",
    "for character in user_password:\n",
    "    if ord(character) in range(65,91):\n",
    "        capital_letter +=1\n",
    "    if ord(character) in range(97,123):\n",
    "        little_letter +=1\n",
    "    if ord(character) in range(49,58):\n",
    "        number +=1\n",
    "    if ord(character) in [ord('$'),ord('#'),ord('@')]:\n",
    "        character_num +=1\n",
    "    if len(user_password)>5 and len(user_password)<17:\n",
    "        password_length +=1\n",
    "\n",
    "        \n",
    "# checking each variable to ensure each criteria was checked  \n",
    "\n",
    "if password_length > 0 and character_num > 0 and number > 0 and little_letter > 0 and capital_letter > 0:\n",
    "    print(\"Valid password\")\n",
    "else:\n",
    "    print(\"Choose another password with required parameters.\")\n",
    "    #print('character_num : ', character_num)\n",
    "    #print(\"password_length : \", password_length)\n",
    "    #print(\"number : \", number)\n",
    "    #print(\"length of password : \", len(user_password))\n",
    "    \n",
    "    "
   ]
  },
  {
   "cell_type": "code",
   "execution_count": 61,
   "metadata": {},
   "outputs": [
    {
     "ename": "NameError",
     "evalue": "name 'May23' is not defined",
     "output_type": "error",
     "traceback": [
      "\u001b[1;31m---------------------------------------------------------------------------\u001b[0m",
      "\u001b[1;31mNameError\u001b[0m                                 Traceback (most recent call last)",
      "\u001b[1;32m<ipython-input-61-c2ec18898855>\u001b[0m in \u001b[0;36m<module>\u001b[1;34m\u001b[0m\n\u001b[1;32m----> 1\u001b[1;33m \u001b[0mMay23\u001b[0m\u001b[1;33m@\u001b[0m\u001b[1;36m3456\u001b[0m\u001b[1;33m\u001b[0m\u001b[1;33m\u001b[0m\u001b[0m\n\u001b[0m",
      "\u001b[1;31mNameError\u001b[0m: name 'May23' is not defined"
     ]
    }
   ],
   "source": []
  },
  {
   "cell_type": "code",
   "execution_count": null,
   "metadata": {},
   "outputs": [],
   "source": []
  },
  {
   "cell_type": "code",
   "execution_count": 63,
   "metadata": {},
   "outputs": [
    {
     "name": "stdout",
     "output_type": "stream",
     "text": [
      "Input your passwordMay23@2345\n",
      "Valid Password\n"
     ]
    }
   ],
   "source": [
    "import re\n",
    "p= input(\"Input your password\")\n",
    "x = True\n",
    "while x:  \n",
    "    if (len(p)<6 or len(p)>12):\n",
    "        break\n",
    "    elif not re.search(\"[a-z]\",p):\n",
    "        break\n",
    "    elif not re.search(\"[0-9]\",p):\n",
    "        break\n",
    "    elif not re.search(\"[A-Z]\",p):\n",
    "        break\n",
    "    elif not re.search(\"[$#@]\",p):\n",
    "        break\n",
    "    elif re.search(\"\\s\",p):\n",
    "        break\n",
    "    else:\n",
    "        print(\"Valid Password\")\n",
    "        x=False\n",
    "        break\n",
    "\n",
    "if x:\n",
    "    print(\"Not a Valid Password\")\n",
    "    # I saw a great flow chart of this online line it helped me alot with this."
   ]
  },
  {
   "cell_type": "code",
   "execution_count": 65,
   "metadata": {},
   "outputs": [
    {
     "name": "stdout",
     "output_type": "stream",
     "text": [
      "Collecting beautifulsoup4\n",
      "  Downloading beautifulsoup4-4.9.3-py3-none-any.whl (115 kB)\n",
      "Collecting soupsieve>1.2; python_version >= \"3.0\"\n",
      "  Downloading soupsieve-2.0.1-py3-none-any.whl (32 kB)\n",
      "Installing collected packages: soupsieve, beautifulsoup4\n",
      "Successfully installed beautifulsoup4-4.9.3 soupsieve-2.0.1\n",
      "Note: you may need to restart the kernel to use updated packages.\n"
     ]
    }
   ],
   "source": [
    "pip install beautifulsoup4\n"
   ]
  },
  {
   "cell_type": "code",
   "execution_count": 64,
   "metadata": {},
   "outputs": [
    {
     "name": "stdout",
     "output_type": "stream",
     "text": [
      "Enter age of person 1 : 8\n",
      "Enter age of person 2 : 1\n",
      "Enter age of person 3 : 56\n",
      "Person 3 is oldest\n",
      "Person 2 is youngest\n"
     ]
    }
   ],
   "source": [
    "person1 = eval(input(\"Enter age of person 1 : \"))\n",
    "person2 = eval(input(\"Enter age of person 2 : \"))\n",
    "person3 = eval(input(\"Enter age of person 3 : \"))\n",
    "\n",
    "# check oldest\n",
    "if person1 > person2 and person1 > person3:\n",
    "    print(\"Person 1 is oldest\")\n",
    "elif person2 > person1 and person2 > person3:\n",
    "    print(\"Person 2 is oldest\")\n",
    "elif person3 > person1 and person3 > person2:\n",
    "    print(\"Person 3 is oldest\")\n",
    "\n",
    "# check youngest\n",
    "if person1 < person2 and person1 < person3:\n",
    "    print(\"Person 1 is youngest\")\n",
    "elif person2 < person1 and person2 < person3:\n",
    "    print(\"Person 2 is youngest\")\n",
    "elif person3 < person1 and person3 < person2:\n",
    "    print(\"Person 3 is youngest\")"
   ]
  },
  {
   "cell_type": "code",
   "execution_count": 4,
   "metadata": {},
   "outputs": [
    {
     "name": "stdout",
     "output_type": "stream",
     "text": [
      "Enter total number of classes held in school : 10\n",
      "Enter total number of classes attended by the student : 10\n",
      "You can sit in the exams as your attendance is fine.\n"
     ]
    }
   ],
   "source": [
    "# Get total classes held in school\n",
    "totalClassesHeld = eval(input(\"Enter total number of classes held in school : \"))\n",
    "\n",
    "# Get total classes attended by the student\n",
    "totalClassesAttend = eval(input(\"Enter total number of classes attended by the student : \"))\n",
    "\n",
    "# Get percent of the attendance\n",
    "percent = (totalClassesAttend / totalClassesHeld) * 100\n",
    "\n",
    "# Check if percent is above 75 i.e., eligible to sit in exam or not\n",
    "if percent < 75:\n",
    "    print(\"You cannot sit in the exams as your attendance is too low!\")\n",
    "else:\n",
    "    print(\"You can sit in the exams as your attendance is fine.\")"
   ]
  },
  {
   "cell_type": "code",
   "execution_count": 6,
   "metadata": {},
   "outputs": [
    {
     "name": "stdout",
     "output_type": "stream",
     "text": [
      "1\n",
      "Weird\n"
     ]
    }
   ],
   "source": [
    "n = int(input())\n",
    "if n % 2 == 1:\n",
    "    print(\"Weird\")\n",
    "elif n % 2 == 0 and 2 <= n <= 5:\n",
    "    print(\"Not Weird\")\n",
    "elif n % 2 == 0 and 6 <= n <= 20:\n",
    "    print(\"Weird\")\n",
    "else:\n",
    "    print(\"Not Weird\")"
   ]
  },
  {
   "cell_type": "code",
   "execution_count": null,
   "metadata": {},
   "outputs": [],
   "source": []
  }
 ],
 "metadata": {
  "kernelspec": {
   "display_name": "Python 3",
   "language": "python",
   "name": "python3"
  },
  "language_info": {
   "codemirror_mode": {
    "name": "ipython",
    "version": 3
   },
   "file_extension": ".py",
   "mimetype": "text/x-python",
   "name": "python",
   "nbconvert_exporter": "python",
   "pygments_lexer": "ipython3",
   "version": "3.8.3"
  }
 },
 "nbformat": 4,
 "nbformat_minor": 4
}
